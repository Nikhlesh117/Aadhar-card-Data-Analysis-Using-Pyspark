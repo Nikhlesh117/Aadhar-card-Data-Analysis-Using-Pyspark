{
  "cells": [
    {
      "cell_type": "markdown",
      "metadata": {
        "id": "HBy5HyNJvrR0"
      },
      "source": [
        "# Aadhar card Data Analysis Using Pyspark"
      ]
    },
    {
      "cell_type": "markdown",
      "metadata": {
        "id": "gzET_wWV83Sx"
      },
      "source": [
        "##Initialization"
      ]
    },
    {
      "cell_type": "code",
      "execution_count": null,
      "metadata": {
        "colab": {
          "base_uri": "https://localhost:8080/"
        },
        "id": "TRFpCZLrcBDL",
        "outputId": "a2a066b0-4d7b-4f68-e5e6-33b330d8f8f1"
      },
      "outputs": [
        {
          "name": "stdout",
          "output_type": "stream",
          "text": [
            "Collecting pyspark\n",
            "  Downloading pyspark-3.2.1.tar.gz (281.4 MB)\n",
            "\u001b[K     |████████████████████████████████| 281.4 MB 34 kB/s \n",
            "\u001b[?25hCollecting py4j==0.10.9.3\n",
            "  Downloading py4j-0.10.9.3-py2.py3-none-any.whl (198 kB)\n",
            "\u001b[K     |████████████████████████████████| 198 kB 60.3 MB/s \n",
            "\u001b[?25hBuilding wheels for collected packages: pyspark\n",
            "  Building wheel for pyspark (setup.py) ... \u001b[?25l\u001b[?25hdone\n",
            "  Created wheel for pyspark: filename=pyspark-3.2.1-py2.py3-none-any.whl size=281853642 sha256=35312a0ee368f146299deec15575a1b7aefb6343c0ea73ce29fd694b2790eb9a\n",
            "  Stored in directory: /root/.cache/pip/wheels/9f/f5/07/7cd8017084dce4e93e84e92efd1e1d5334db05f2e83bcef74f\n",
            "Successfully built pyspark\n",
            "Installing collected packages: py4j, pyspark\n",
            "Successfully installed py4j-0.10.9.3 pyspark-3.2.1\n"
          ]
        }
      ],
      "source": [
        "pip install pyspark"
      ]
    },
    {
      "cell_type": "code",
      "execution_count": null,
      "metadata": {
        "id": "MNRfEHxgdqb-"
      },
      "outputs": [],
      "source": [
        "from pyspark.sql import SparkSession, Window\n",
        "from pyspark.sql.types import *\n",
        "from pyspark.sql.functions import *\n",
        "\n",
        "spark = SparkSession.builder.appName(\"Week 16\").getOrCreate()"
      ]
    },
    {
      "cell_type": "code",
      "execution_count": null,
      "metadata": {
        "colab": {
          "background_save": true
        },
        "id": "X57v61mPgPKt"
      },
      "outputs": [],
      "source": [
        "schemaStruct = StructType([StructField(\"Registrar\", StringType(),True)\n",
        "                          ,StructField(\"Enrolment_Agency\",StringType(),True)\n",
        "                          ,StructField(\"State\",StringType(),True)\n",
        "                          ,StructField(\"District\",StringType(),True)\n",
        "                          ,StructField(\"sub_District\",StringType(),True)\n",
        "                          ,StructField(\"Pincode\",LongType(),True)\n",
        "                          ,StructField(\"Gender\",StringType(),True)\n",
        "                          ,StructField(\"Age\",IntegerType(),True)\n",
        "                          ,StructField(\"Aadhaar_Generated\",IntegerType(),True)\n",
        "                          ,StructField(\"Enrolment_Rejected\",IntegerType(),True)\n",
        "                          ,StructField(\"Residents_providing_email\",IntegerType(),True)\n",
        "                          ,StructField(\"Residents_providing_mobile_number\",IntegerType(),True)])\n",
        "\n",
        "csvFile = \"/content/UIDAI-ENR-DETAIL-20170308.csv\"\n",
        "\n",
        "data = spark.read.format(\"csv\").schema(schemaStruct).option(\"dateFormat\",\"yyyyMMdd\").load(csvFile)"
      ]
    },
    {
      "cell_type": "code",
      "execution_count": null,
      "metadata": {
        "colab": {
          "base_uri": "https://localhost:8080/"
        },
        "id": "5DQV3x9ohZAO",
        "outputId": "ff59c71d-ddfd-4f55-e267-2f315b0ebcfa"
      },
      "outputs": [
        {
          "name": "stdout",
          "output_type": "stream",
          "text": [
            "root\n",
            " |-- Registrar: string (nullable = true)\n",
            " |-- Enrolment_Agency: string (nullable = true)\n",
            " |-- State: string (nullable = true)\n",
            " |-- District: string (nullable = true)\n",
            " |-- sub_District: string (nullable = true)\n",
            " |-- Pincode: long (nullable = true)\n",
            " |-- Gender: string (nullable = true)\n",
            " |-- Age: integer (nullable = true)\n",
            " |-- Aadhaar_Generated: integer (nullable = true)\n",
            " |-- Enrolment_Rejected: integer (nullable = true)\n",
            " |-- Residents_providing_email: integer (nullable = true)\n",
            " |-- Residents_providing_mobile_number: integer (nullable = true)\n",
            "\n"
          ]
        }
      ],
      "source": [
        "data.printSchema()"
      ]
    },
    {
      "cell_type": "code",
      "execution_count": null,
      "metadata": {
        "colab": {
          "base_uri": "https://localhost:8080/"
        },
        "id": "-k8prR-zjHlm",
        "outputId": "5357239b-e21c-4872-c169-dd69f6727d08"
      },
      "outputs": [
        {
          "name": "stdout",
          "output_type": "stream",
          "text": [
            "+--------------------+--------------------+-------------+----------+------------+-------+------+----+-----------------+------------------+-------------------------+---------------------------------+\n",
            "|           Registrar|    Enrolment_Agency|        State|  District|sub_District|Pincode|Gender| Age|Aadhaar_Generated|Enrolment_Rejected|Residents_providing_email|Residents_providing_mobile_number|\n",
            "+--------------------+--------------------+-------------+----------+------------+-------+------+----+-----------------+------------------+-------------------------+---------------------------------+\n",
            "|           Registrar|    Enrolment Agency|        State|  District|Sub District|   null|Gender|null|             null|              null|                     null|                             null|\n",
            "|      Allahabad Bank|A-Onerealtors Pvt...|Uttar Pradesh| Allahabad|        Meja| 212303|     F|   7|                1|                 0|                        0|                                1|\n",
            "|      Allahabad Bank|Asha Security Gua...|Uttar Pradesh| Sonbhadra| Robertsganj| 231213|     M|   8|                1|                 0|                        0|                                0|\n",
            "|      Allahabad Bank|   SGS INDIA PVT LTD|Uttar Pradesh| Sultanpur|   Sultanpur| 227812|     F|  13|                1|                 0|                        0|                                1|\n",
            "|      Allahabad Bank|Sri Ramraja Sarka...|Uttar Pradesh|    Shamli|      Shamli| 247775|     M|   6|                1|                 0|                        0|                                1|\n",
            "|      Allahabad Bank|  Transmoovers India|Uttar Pradesh| Gorakhpur|    Sahjanwa| 273001|     M|   8|                1|                 0|                        0|                                1|\n",
            "|      Allahabad Bank|  Transmoovers India|Uttar Pradesh|  Varanasi|      Pindra| 221101|     M|  14|                1|                 0|                        0|                                1|\n",
            "|      Allahabad Bank|  Transmoovers India|Uttar Pradesh|  Varanasi|    Varanasi| 221001|     M|   9|                1|                 0|                        0|                                1|\n",
            "|      Allahabad Bank|  Transmoovers India|Uttar Pradesh|  Varanasi|    Varanasi| 221002|     M|   4|                1|                 0|                        0|                                1|\n",
            "|      Allahabad Bank|  Transmoovers India|Uttar Pradesh|  Varanasi|    Varanasi| 221002|     M|  10|                0|                 1|                        0|                                1|\n",
            "|      Allahabad Bank|  Transmoovers India|Uttar Pradesh|  Varanasi|    Varanasi| 221002|     M|  19|                1|                 0|                        0|                                1|\n",
            "|      Allahabad Bank|Vedavaag Systems ...|Uttar Pradesh|Bara Banki|   Nawabganj| 225301|     M|   8|                1|                 0|                        0|                                0|\n",
            "|Atalji Janasnehi ...|Atalji Janasnehi ...|        Assam|  Marigaon|   Bhuragaon| 782121|     M|  22|                1|                 0|                        0|                                1|\n",
            "|Atalji Janasnehi ...|Atalji Janasnehi ...|        Bihar| Gopalganj|  Vijayeepur| 841508|     M|  26|                1|                 0|                        0|                                1|\n",
            "|Atalji Janasnehi ...|Atalji Janasnehi ...|    Karnataka|  Bagalkot|      Badami| 587114|     M|  27|                1|                 0|                        0|                                1|\n",
            "|Atalji Janasnehi ...|Atalji Janasnehi ...|    Karnataka|  Bagalkot|      Badami| 587155|     F|   2|                1|                 0|                        0|                                1|\n",
            "|Atalji Janasnehi ...|Atalji Janasnehi ...|    Karnataka|  Bagalkot|      Badami| 587155|     M|  67|                1|                 0|                        0|                                1|\n",
            "|Atalji Janasnehi ...|Atalji Janasnehi ...|    Karnataka|  Bagalkot|      Badami| 587201|     F|  32|                1|                 0|                        0|                                1|\n",
            "|Atalji Janasnehi ...|Atalji Janasnehi ...|    Karnataka|  Bagalkot|      Badami| 587203|     M|  27|                1|                 0|                        0|                                1|\n",
            "|Atalji Janasnehi ...|Atalji Janasnehi ...|    Karnataka|  Bagalkot|      Badami| 587206|     F|  40|                1|                 0|                        0|                                0|\n",
            "+--------------------+--------------------+-------------+----------+------------+-------+------+----+-----------------+------------------+-------------------------+---------------------------------+\n",
            "only showing top 20 rows\n",
            "\n"
          ]
        }
      ],
      "source": [
        "data.show()"
      ]
    },
    {
      "cell_type": "markdown",
      "metadata": {
        "id": "RpNnMggi9NDk"
      },
      "source": [
        "## Analysis"
      ]
    },
    {
      "cell_type": "markdown",
      "metadata": {
        "id": "E4GFO_-VmE56"
      },
      "source": [
        "### 1. Create a dataframe with Total Aadhaar's generated for each state"
      ]
    },
    {
      "cell_type": "code",
      "execution_count": null,
      "metadata": {
        "colab": {
          "base_uri": "https://localhost:8080/"
        },
        "id": "3X2lmf3Xli7u",
        "outputId": "6836b758-3f70-49d2-ed67-77820879e649"
      },
      "outputs": [
        {
          "name": "stdout",
          "output_type": "stream",
          "text": [
            "+---------------------------+----------------------+\n",
            "|State                      |sum(Aadhaar_Generated)|\n",
            "+---------------------------+----------------------+\n",
            "|Bihar                      |162607                |\n",
            "|West Bengal                |119901                |\n",
            "|Uttar Pradesh              |103767                |\n",
            "|Madhya Pradesh             |53276                 |\n",
            "|Rajasthan                  |39570                 |\n",
            "|Gujarat                    |34844                 |\n",
            "|Tamil Nadu                 |32485                 |\n",
            "|Maharashtra                |26085                 |\n",
            "|Karnataka                  |19764                 |\n",
            "|Odisha                     |18182                 |\n",
            "|Kerala                     |15143                 |\n",
            "|Uttarakhand                |13227                 |\n",
            "|Jharkhand                  |9868                  |\n",
            "|Delhi                      |8426                  |\n",
            "|Haryana                    |6804                  |\n",
            "|Chhattisgarh               |6604                  |\n",
            "|Punjab                     |6506                  |\n",
            "|Mizoram                    |6279                  |\n",
            "|Andhra Pradesh             |5798                  |\n",
            "|Telangana                  |5018                  |\n",
            "|Assam                      |3213                  |\n",
            "|Himachal Pradesh           |1547                  |\n",
            "|Manipur                    |1323                  |\n",
            "|Jammu and Kashmir          |1234                  |\n",
            "|Goa                        |1167                  |\n",
            "|Arunachal Pradesh          |913                   |\n",
            "|Tripura                    |908                   |\n",
            "|Nagaland                   |545                   |\n",
            "|Meghalaya                  |277                   |\n",
            "|Chandigarh                 |259                   |\n",
            "|Dadra and Nagar Haveli     |140                   |\n",
            "|Daman and Diu              |105                   |\n",
            "|Puducherry                 |83                    |\n",
            "|Sikkim                     |50                    |\n",
            "|Others                     |12                    |\n",
            "|Andaman and Nicobar Islands|5                     |\n",
            "|Lakshadweep                |4                     |\n",
            "+---------------------------+----------------------+\n",
            "only showing top 37 rows\n",
            "\n"
          ]
        }
      ],
      "source": [
        "data.groupBy(\"State\").agg(expr(\"sum(Aadhaar_Generated)\")).orderBy(\"sum(Aadhaar_Generated)\",ascending=False).show(37,truncate=False)"
      ]
    },
    {
      "cell_type": "markdown",
      "metadata": {
        "id": "am8E43bNoUW4"
      },
      "source": [
        "### 2. Create a dataframe with Total Aadhaar's generated by each enrollment agency"
      ]
    },
    {
      "cell_type": "code",
      "execution_count": null,
      "metadata": {
        "colab": {
          "base_uri": "https://localhost:8080/"
        },
        "id": "ov3YN52bmJWS",
        "outputId": "48ff72b1-5f15-4f77-d273-76f6be1b085b"
      },
      "outputs": [
        {
          "name": "stdout",
          "output_type": "stream",
          "text": [
            "+-----------------------------------------------------------------------+----------------------+\n",
            "|Enrolment_Agency                                                       |sum(Aadhaar_Generated)|\n",
            "+-----------------------------------------------------------------------+----------------------+\n",
            "|CSC SPV                                                                |173192                |\n",
            "|Wipro Ltd                                                              |39619                 |\n",
            "|SREI INFRASTRUCTURE FINANCES L                                         |26497                 |\n",
            "|SRM Education And Social Welfare Society                               |26253                 |\n",
            "|Computer LAB                                                           |21823                 |\n",
            "|Rajcomp Info Services Ltd                                              |20163                 |\n",
            "|MPOnline Limited                                                       |17020                 |\n",
            "|AKSH OPTIFIBRE LIMITED                                                 |16624                 |\n",
            "|Nielsen  India  Private Limited                                        |15993                 |\n",
            "|TAMILNADU ARASU CABLE TV CORPORATION LTD                               |15981                 |\n",
            "|Akshaya                                                                |14562                 |\n",
            "|CMS Computers Ltd                                                      |13126                 |\n",
            "|IAP COMPANY Pvt. Ltd                                                   |10644                 |\n",
            "|VEETECHNOLOGIES PVT. LTD                                               |9922                  |\n",
            "|NPS Technologies Pvt. Ltd                                              |9692                  |\n",
            "|Karvy Data Management Services                                         |8086                  |\n",
            "|BASIX                                                                  |8079                  |\n",
            "|A I Soc for Electronics and Comp Tech                                  |7041                  |\n",
            "|Centre for e-Governance  GOK                                           |7027                  |\n",
            "|Zephyr System Pvt.Ltd.                                                 |6946                  |\n",
            "|AISECT Limited                                                         |6505                  |\n",
            "|Vedavaag Systems Limited                                               |6232                  |\n",
            "|CHIPS                                                                  |5711                  |\n",
            "|FINANCIAL INFORMATION NETWORK                                          |5626                  |\n",
            "|Directorate of ESD                                                     |5514                  |\n",
            "|Amar Constructions                                                     |5433                  |\n",
            "|Home Life Buildcon Pvt Ltd                                             |5313                  |\n",
            "|Nekton IT India Pvt Ltd.                                               |4837                  |\n",
            "|Netlink software Pvt Ltd                                               |4832                  |\n",
            "|Twinstar Industries Ltd.                                               |4806                  |\n",
            "|BNK Capital Markets Limited                                            |4138                  |\n",
            "|SGS INDIA PVT LTD                                                      |4121                  |\n",
            "|Vakrangee Softwares Limited                                            |4055                  |\n",
            "|Electronics Corporation of Tamil Nadu Limited                          |3979                  |\n",
            "|Make India Smart Private Limited                                       |3951                  |\n",
            "|Alankit Limited                                                        |3861                  |\n",
            "|LYRA  CONSULTANCY SERVICE                                              |3685                  |\n",
            "|Utility Forms Pvt Ltd                                                  |3592                  |\n",
            "|Techno Bytes Information Pvt. Ltd                                      |3586                  |\n",
            "|Sarvalabh Global Foundation                                            |3089                  |\n",
            "|National Cooperative Consumers Federation of India Limited             |3062                  |\n",
            "|Indotech Engineering Products                                          |2965                  |\n",
            "|RELIGARE SECURITIES LTD                                                |2917                  |\n",
            "|Abha Systems And Consultancy                                           |2898                  |\n",
            "|Mahamritunjay Traders                                                  |2885                  |\n",
            "|Synapses Solutions Private Limited                                     |2843                  |\n",
            "|Prakash Computer Services                                              |2817                  |\n",
            "|M/s Gold Square Builders & Promoters Pvt. Ltd.                         |2697                  |\n",
            "|Sri Ramraja Sarkar Lok Kalyan Trust                                    |2642                  |\n",
            "|CSC e-Governance Services India Limited                                |2325                  |\n",
            "|IPS e Services Pvt Ltd                                                 |2218                  |\n",
            "|PROTEX COMPUTER PVT LTD                                                |2180                  |\n",
            "|Emdee Digitronics Pvt.Ltd.                                             |2078                  |\n",
            "|Matrix Processing House                                                |2075                  |\n",
            "|Bloom Solutions Pvt Ltd                                                |2072                  |\n",
            "|A-Onerealtors Pvt Ltd                                                  |2034                  |\n",
            "|Omnitech Infosolutions Ltd                                             |2032                  |\n",
            "|AVVAS INFOTECH PVT  LTD                                                |2008                  |\n",
            "|RBS multisolutions private limited                                     |1949                  |\n",
            "|Estex Telecom Pvt Ltd                                                  |1894                  |\n",
            "|N.K. Sharma Enterprises Ltd.                                           |1881                  |\n",
            "|Network for Information & Computer                                     |1849                  |\n",
            "|Radiant Haroti Industries India Ltd                                    |1801                  |\n",
            "|Promind Solutions P Limited                                            |1779                  |\n",
            "|SARADA SYSTEMS                                                         |1745                  |\n",
            "|Super Printers                                                         |1725                  |\n",
            "|KDS Services Private Limited                                           |1705                  |\n",
            "|Seva Society Collector Kutch                                           |1681                  |\n",
            "|Gujarat Infotech Ltd.                                                  |1677                  |\n",
            "|DATASOFT COMPUTER SERVICES(P)                                          |1672                  |\n",
            "|Ecartes Technology Pvt. Ltd                                            |1594                  |\n",
            "|VISION COMPTECH INTEGRATOR LTD                                         |1501                  |\n",
            "|WEBEL TECHNOLOGY LIMITED                                               |1467                  |\n",
            "|Jilla E-seva Society Banaskantha                                       |1409                  |\n",
            "|United Telecoms Ltd                                                    |1383                  |\n",
            "|Digitcom Systems Pvt. Ltd.                                             |1378                  |\n",
            "|Atalji Janasnehi Directorate  GOK                                      |1369                  |\n",
            "|Squaria Global India Private Limited                                   |1368                  |\n",
            "|Jilla E-seva Sadan  Dahod                                              |1336                  |\n",
            "|E-Seva Society UID Bharuch                                             |1293                  |\n",
            "|Eagle Software India Pvt. Ltd                                          |1211                  |\n",
            "|Janta Silikon Consortium                                               |1194                  |\n",
            "|DC Lunglei                                                             |1186                  |\n",
            "|District E-Seva Society Navsari                                        |1147                  |\n",
            "|E-Seva Society Bhavnagar                                               |1136                  |\n",
            "|District E-Seva Society Panchmahals Godhra                             |1126                  |\n",
            "|E Seva Society UID Kheda Nadiad                                        |1103                  |\n",
            "|Jilla E-Seva Society Sabarkantha                                       |1102                  |\n",
            "|DC Serchhip                                                            |1067                  |\n",
            "|Agro Tech Engineers                                                    |1055                  |\n",
            "|Academy of Management Studies                                          |1002                  |\n",
            "|Saket Advertising Pvt. Ltd                                             |1002                  |\n",
            "|Nevaeh Technology Pvt. Ltd.                                            |979                   |\n",
            "|M/s. Goa Electronics Ltd                                               |976                   |\n",
            "|Deputy Commissioner  Aizawl                                            |935                   |\n",
            "|UID e-Seva Society Ahmedabad                                           |920                   |\n",
            "|OSWAL COMPUTERS & CONSULTANTS                                          |872                   |\n",
            "|Dist E-seva Society Anand                                              |872                   |\n",
            "|Late Smt. Nirmala Singh Seva Samiti                                    |866                   |\n",
            "|Department of IT  Govt. of HP                                          |853                   |\n",
            "|EDCS GOK                                                               |845                   |\n",
            "|Steel City Securities Limited                                          |841                   |\n",
            "|E-Seva Society Amreli                                                  |823                   |\n",
            "|Jilla E-Seva Society Valsad                                            |821                   |\n",
            "|Osiris Infotech Pvt. Ltd.                                              |816                   |\n",
            "|SRR Infotech                                                           |804                   |\n",
            "|Asha Security Guard Services                                           |768                   |\n",
            "|Department of Information Technology and e-Gov  Government of Jharkhand|762                   |\n",
            "|District E-Seva Society Gandhinagar                                    |741                   |\n",
            "|Yuvaan Infotech                                                        |737                   |\n",
            "|Dist. E-seva Society Morbi                                             |731                   |\n",
            "|VIRGO SOFTECH LIMITED                                                  |718                   |\n",
            "|Mahaonline Limited                                                     |718                   |\n",
            "|Deputy Commissioner  Lawngtlai                                         |714                   |\n",
            "|E-Seva Society Surendranagar                                           |712                   |\n",
            "|Virinchi Technologies Ltd                                              |711                   |\n",
            "|Sixth Dimension Project Solutions Ltd                                  |688                   |\n",
            "|M/s TAVASYA VENTURE PARTNERS PVT. LTD.                                 |687                   |\n",
            "|DC Mamit                                                               |674                   |\n",
            "|Municipal Corporation Ahmedabad                                        |666                   |\n",
            "|Akhil Bhartiya Majdoor Shiksha Sewa Samiti                             |642                   |\n",
            "|E-Seva Society Arvalli                                                 |640                   |\n",
            "|City Hawks Manpower Services & Consultancy                             |635                   |\n",
            "|KRISHNAURAM SHIKSHA EVAM JAN KALYAN SAMITI                             |626                   |\n",
            "|E-Seva Society Jamnagar                                                |626                   |\n",
            "|Jilla E-Seva Society Rajkot                                            |617                   |\n",
            "|DC Siaha                                                               |612                   |\n",
            "|COMTECHINFO SOLUTIONS PVT.LTD                                          |591                   |\n",
            "|Deputy Commissioner Kolasib                                            |575                   |\n",
            "|D.C. Champhai                                                          |561                   |\n",
            "|Raj Construction Co.                                                   |532                   |\n",
            "|Layman Education Society                                               |527                   |\n",
            "|Munish Kumar Bansal Contractor                                         |515                   |\n",
            "|Vayam technologies Ltd                                                 |480                   |\n",
            "|VAP INFOSOLUTIONS                                                      |479                   |\n",
            "|Conatus Infocom Pvt. Ltd                                               |477                   |\n",
            "|e-Seva Society  Chhotaudepur                                           |447                   |\n",
            "|Shubh Enterprises                                                      |445                   |\n",
            "|E-Seva Society Junagadh                                                |435                   |\n",
            "|Yash Ornaments Pvt. Ltd                                                |424                   |\n",
            "|CALANCE SOFTWARE PRIVATE LTD                                           |408                   |\n",
            "|HI-TECH CONTROLS                                                       |394                   |\n",
            "|M/s Sanish Choudhary                                                   |358                   |\n",
            "|NVR & ASSOCIATES LIMITED                                               |356                   |\n",
            "|Apnatech Consultancy Services Pvt Ltd                                  |342                   |\n",
            "|Care Educational & Welfare Society                                     |331                   |\n",
            "|MEGHA VINCOM PVT LTD                                                   |325                   |\n",
            "|APOnline Limited                                                       |305                   |\n",
            "|E-Seva Society Collector Office Tapi Vyara                             |295                   |\n",
            "|Orion Security Solutions Private Ltd                                   |292                   |\n",
            "|Limra Global e Services Private Limited                                |290                   |\n",
            "|District e-Seva Society Botad                                          |286                   |\n",
            "|E-Seva Society UID Patan                                               |283                   |\n",
            "|Om Softwares                                                           |272                   |\n",
            "|India Computer Technology                                              |264                   |\n",
            "|MKS Enterprises                                                        |254                   |\n",
            "|VISESH INFOTECNICS LIMITED                                             |252                   |\n",
            "|DC office Aalo                                                         |249                   |\n",
            "|SVG Express Services Pvt Ltd                                           |245                   |\n",
            "|Computer Print                                                         |240                   |\n",
            "|District E-Seva Society Surat                                          |240                   |\n",
            "|BNR UDYOG LIMITED                                                      |238                   |\n",
            "|MANTRA SOFTTECH (INDIA) PVTLTD                                         |237                   |\n",
            "|State Health Society                                                   |237                   |\n",
            "|District IT Society Sirsa                                              |235                   |\n",
            "|District Magistrate & Collector Sepahijala District                    |234                   |\n",
            "|District IT Society Gurgaon                                            |231                   |\n",
            "|Jamnagar MC                                                            |230                   |\n",
            "|ATISHAY INFOTECH PVT. LTD.                                             |227                   |\n",
            "|Frontech Systems Pvt Ltd                                               |216                   |\n",
            "|Jeevan Deep Charitable Society                                         |211                   |\n",
            "|Directorate of Women & Child Department  Govt Of Goa                   |209                   |\n",
            "|Bhaswa Computer Science Pvt. Ltd.                                      |206                   |\n",
            "|Organisation for Development Integrated Social & Health Action  ODISHA |203                   |\n",
            "|UT Computers Educational & Welfare Soc                                 |200                   |\n",
            "|Ojus Healthcare Private Limited                                        |198                   |\n",
            "|District IT Society Panipat                                            |188                   |\n",
            "|SoftAge Information Technology Limited                                 |185                   |\n",
            "|Advent Infomax Private Ltd                                             |183                   |\n",
            "|e-Seva Society UID Dang                                                |182                   |\n",
            "|Urmila Info solution                                                   |180                   |\n",
            "|Tera Software Ltd                                                      |179                   |\n",
            "|District Magistrate & Collector  Gomati District                       |176                   |\n",
            "|District Magistrate & Collector  West Tripura District                 |170                   |\n",
            "|District IT Society Faridabad                                          |168                   |\n",
            "|District IT Society Karnal                                             |168                   |\n",
            "|Mahanagar Seva Sadan Vadodara                                          |156                   |\n",
            "|Wedha Communication Pvt Ltd                                            |152                   |\n",
            "|District IT Society Mahendragarh                                       |145                   |\n",
            "|District IT Society Rohtak                                             |145                   |\n",
            "|Jilla e-SEVA society Gir Somnath                                       |144                   |\n",
            "|Binary Systems                                                         |141                   |\n",
            "|Corporate India Facilities Pvt Ltd                                     |140                   |\n",
            "|COMTECH INSTITUTE OFTECHNOLOGY                                         |136                   |\n",
            "|District IT Society Rewari                                             |134                   |\n",
            "|District IT Society Mewat                                              |134                   |\n",
            "|CHESSY CONSULTANTS PVT LTD                                             |133                   |\n",
            "|District IT Society Hisar                                              |132                   |\n",
            "|Transline Technologies P Ltd                                           |129                   |\n",
            "|Rajkot Municipal Corporation                                           |126                   |\n",
            "|SRM Techsol Pvt. Ltd.                                                  |119                   |\n",
            "|In Media Computer Services LLP                                         |117                   |\n",
            "|M/s. Vidya Online  Pune                                                |113                   |\n",
            "|APEX Services                                                          |109                   |\n",
            "|District IT Society Bhiwani                                            |106                   |\n",
            "|AS International                                                       |105                   |\n",
            "|DDSE Lohit                                                             |104                   |\n",
            "|CIRCLE OFFICER PIYONG                                                  |103                   |\n",
            "|District IT Society Palwal                                             |102                   |\n",
            "|SAR Technology                                                         |102                   |\n",
            "|District IT Society Sonipat                                            |101                   |\n",
            "|77 Infosystems Pvt Ltd                                                 |99                    |\n",
            "|Blue Circle Instrument                                                 |97                    |\n",
            "|Department of IT  Chandigarh                                           |94                    |\n",
            "|M/S King Computer System pvt Ltd                                       |93                    |\n",
            "|Offshoot Agency Pvt. Ltd.                                              |91                    |\n",
            "|Aayam Enterprises                                                      |91                    |\n",
            "|Silver Touch Technologies Ltd                                          |91                    |\n",
            "|Surat Municipal Corporation                                            |90                    |\n",
            "|District IT Society Yamuna Nagar                                       |89                    |\n",
            "|Ojus G Enterprises                                                     |88                    |\n",
            "|Abhipra Capital Ltd                                                    |79                    |\n",
            "|District IT Society Panchkula                                          |78                    |\n",
            "|M/S STAR DATA CENTRE                                                   |76                    |\n",
            "|District E-Seva Society Mehsana                                        |73                    |\n",
            "|District IT Society Ambala                                             |72                    |\n",
            "|SILVER JUBILEE MOTORS LTD.                                             |72                    |\n",
            "|District IT Society Kaithal                                            |71                    |\n",
            "|Asray Gram                                                             |69                    |\n",
            "|JNET Technologies Pvt.Ltd                                              |69                    |\n",
            "|BHAVANAGAR MC                                                          |67                    |\n",
            "|CDPO Tezu ICDS                                                         |66                    |\n",
            "|Jilla e-SEVA Society Devbhoomi Dwarka                                  |64                    |\n",
            "|Administration of DNH                                                  |64                    |\n",
            "|Compro Systems & Services                                              |62                    |\n",
            "|M2C Private Solution                                                   |61                    |\n",
            "|District Magistrate & Collector  Unakoti  District                     |59                    |\n",
            "|Sant Naval Institute of Information Technology                         |58                    |\n",
            "|EAC FI DA CHONGKHAM                                                    |58                    |\n",
            "|UT of Daman and Diu                                                    |53                    |\n",
            "|District IT Society Kurukshetra                                        |51                    |\n",
            "|DSO STAT NAMSAI                                                        |50                    |\n",
            "|District Magistrate & Collector  NorthTripura District                 |50                    |\n",
            "|Sanghavi Computer Centre Private Ltd                                   |48                    |\n",
            "|District Magistrate &  Collector  Dhalai District                      |48                    |\n",
            "|Women and Child Development                                            |46                    |\n",
            "|District IT Society Jhajjar                                            |43                    |\n",
            "|Lankipalli Integrated Services Private Limited                         |43                    |\n",
            "|Jilla E-Seva Society Vadodara                                          |43                    |\n",
            "|District Magistrate & Collector  South Tripura                         |42                    |\n",
            "|EAC LEKANG                                                             |40                    |\n",
            "|SREEVEN INFOCOM LIMITED                                                |37                    |\n",
            "|Karvy Computershare Private Li                                         |36                    |\n",
            "|District Sukhmani Society Fatehgarh Sahib Punjab                       |35                    |\n",
            "|Department of Economics Statistics  Monitoring and Evaluation DESME    |34                    |\n",
            "|Business Information Processing Services                               |34                    |\n",
            "|HyperSoft Technologies Ltd                                             |33                    |\n",
            "|Patel Computer Education                                               |32                    |\n",
            "|Director  Woman and Child Development  Govt. of Himachal Pradesh       |32                    |\n",
            "|UMC Technologies Pvt. Ltd                                              |31                    |\n",
            "|District IT Society Fatehabad                                          |29                    |\n",
            "|M/s Smit Advertisers Pvt. Ltd.                                         |27                    |\n",
            "|United Telecoms e-Services Pvt Ltd                                     |27                    |\n",
            "|DC Wokha                                                               |27                    |\n",
            "|Municipal Corporation Gandhinagar                                      |26                    |\n",
            "|eCentric solutions pvt ltd                                             |24                    |\n",
            "|Punjab State e- Governance Society                                     |24                    |\n",
            "|Directorate of Public Health and Family Welfare  Govt of Andhra Pradesh|22                    |\n",
            "|Mahisagar Lunawala                                                     |22                    |\n",
            "|Extra Assistant Commissioner Naharlagun                                |22                    |\n",
            "|EAC OFFICE KAYING/CO PAYUM                                             |21                    |\n",
            "|District Sukhmani Society  Ludhiana  Punjab                            |19                    |\n",
            "|UIDAI-EA                                                               |18                    |\n",
            "|District Sukhmani Society For Citizen Services Mansa Punjab            |18                    |\n",
            "|SNR Edatas Pvt Ltd                                                     |17                    |\n",
            "|DFCSO  Tezu                                                            |16                    |\n",
            "|Smart Chip Limited                                                     |16                    |\n",
            "|Extra Assistant Commissioner Itanagar                                  |15                    |\n",
            "|E-Seva Society Narmada Rajpipla                                        |15                    |\n",
            "|Circle Officer Toru                                                    |15                    |\n",
            "|Pho-com-net Pvt. Ltd.                                                  |15                    |\n",
            "|District Magistrate & Collector  Khowai District                       |14                    |\n",
            "|Bhartiya Manav Kalyan Parishad                                         |11                    |\n",
            "|Rural Environment & Water Assets Reproductive Development Society      |11                    |\n",
            "|Junagadh MC                                                            |10                    |\n",
            "|S.J. Technologies                                                      |9                     |\n",
            "|SETU MAHARASHTRA                                                       |9                     |\n",
            "|Clairvoyance Technologies Pvt.                                         |9                     |\n",
            "|Arya bandhu herbs and durgs private limited                            |9                     |\n",
            "|Multiwave Innovation                                                   |9                     |\n",
            "|CO JOMLO MOBUK                                                         |8                     |\n",
            "|MACRO INFOTECH PVT LTD                                                 |8                     |\n",
            "|District Sukhmani Society Fazilka Punjab                               |7                     |\n",
            "|Viesa Technologies                                                     |6                     |\n",
            "|Transmoovers India                                                     |5                     |\n",
            "|Yashi Informatics LLP                                                  |5                     |\n",
            "|District Sukhmani Society Sangrur Punjab                               |5                     |\n",
            "|DEVASHISH SECURITIES PVT. LTD.                                         |4                     |\n",
            "|District Sukhmani Society Bathinda Punjab                              |4                     |\n",
            "|Excel Technovation Pvt. Ltd                                            |3                     |\n",
            "|Manipur Electronics Dev Corp                                           |3                     |\n",
            "|Pariza Enterprises                                                     |3                     |\n",
            "|Chinar Construction Company Prime agency                               |3                     |\n",
            "|District Sukhmani Society Tarn Taran Punjab                            |2                     |\n",
            "|E-Seva Society Porbandar                                               |2                     |\n",
            "|ADC BOLENG                                                             |2                     |\n",
            "|Ricoh India Limited                                                    |2                     |\n",
            "|MARS Telecom Systems Pvt Ltd                                           |2                     |\n",
            "|TechSmart India Pvt Ltd                                                |2                     |\n",
            "|SHRIKRISHNA KHANDASARI SUGAR M                                         |1                     |\n",
            "|VIKALP MULTIMEDIA                                                      |1                     |\n",
            "|Quick Data IT Services Pvt Ltd                                         |1                     |\n",
            "|Integrated Systems & Services                                          |1                     |\n",
            "|Madras Security Printers Ltd                                           |1                     |\n",
            "|Planning and Research Department                                       |1                     |\n",
            "|District IT Society Jind                                               |1                     |\n",
            "|Alankit Finsec Ltd                                                     |1                     |\n",
            "|SPANCO                                                                 |0                     |\n",
            "|WEBEL                                                                  |0                     |\n",
            "|DIT Lakshadweep                                                        |0                     |\n",
            "|District Sukhmani Society Amritsar Punjab                              |0                     |\n",
            "|UNITED DATA SERVICES PRIVATE LIMITED                                   |0                     |\n",
            "|District Health and Family Welfare Society Fatehabad                   |0                     |\n",
            "|District Family & Welfare Society Palwal                               |0                     |\n",
            "|District Family and Welfare Society  Jhajjar                           |0                     |\n",
            "+-----------------------------------------------------------------------+----------------------+\n",
            "only showing top 325 rows\n",
            "\n"
          ]
        }
      ],
      "source": [
        "data.groupBy(\"Enrolment_Agency\").agg(expr(\"sum(Aadhaar_Generated)\")).orderBy(\"sum(Aadhaar_Generated)\",ascending=False).show(325,truncate=False)"
      ]
    },
    {
      "cell_type": "markdown",
      "metadata": {
        "id": "2r1nN25Y2XFQ"
      },
      "source": [
        "### 3. Create dataframe with top 10 districts with maximum Aadhaar's generated for both Male and Female?"
      ]
    },
    {
      "cell_type": "code",
      "execution_count": null,
      "metadata": {
        "colab": {
          "base_uri": "https://localhost:8080/"
        },
        "id": "PcbrFrEr8f8o",
        "outputId": "cbb87987-ee45-4ff7-efba-894160248123"
      },
      "outputs": [
        {
          "name": "stdout",
          "output_type": "stream",
          "text": [
            "+-----------------+------+----------------------+\n",
            "|District         |Gender|sum(Aadhaar_Generated)|\n",
            "+-----------------+------+----------------------+\n",
            "|Bhagalpur        |M     |11007                 |\n",
            "|Barddhaman       |F     |9744                  |\n",
            "|South 24 Parganas|F     |8382                  |\n",
            "|South 24 Parganas|M     |7825                  |\n",
            "|Katihar          |M     |6968                  |\n",
            "|Murshidabad      |M     |6808                  |\n",
            "|Samastipur       |M     |6195                  |\n",
            "|Patna            |M     |6191                  |\n",
            "|North 24 Parganas|F     |6108                  |\n",
            "|Barddhaman       |M     |6077                  |\n",
            "+-----------------+------+----------------------+\n",
            "only showing top 10 rows\n",
            "\n"
          ]
        }
      ],
      "source": [
        "data.groupBy(\"District\",\"Gender\").agg(expr(\"sum(Aadhaar_Generated)\")).orderBy(\"sum(Aadhaar_Generated)\",ascending=False).show(10,truncate=False)"
      ]
    },
    {
      "cell_type": "markdown",
      "metadata": {
        "id": "QvVeiHtV2ekE"
      },
      "source": [
        "### 4. Create a dataframe with Total Aadhaar's generated for top 10 least state"
      ]
    },
    {
      "cell_type": "code",
      "execution_count": null,
      "metadata": {
        "colab": {
          "base_uri": "https://localhost:8080/"
        },
        "id": "FBleRAO9qdR1",
        "outputId": "c9183e16-d0ca-4c73-fd91-e41e7f5647ac"
      },
      "outputs": [
        {
          "name": "stdout",
          "output_type": "stream",
          "text": [
            "+---------------------------+----------------------+\n",
            "|State                      |sum(Aadhaar_Generated)|\n",
            "+---------------------------+----------------------+\n",
            "|State                      |null                  |\n",
            "|Lakshadweep                |4                     |\n",
            "|Andaman and Nicobar Islands|5                     |\n",
            "|Others                     |12                    |\n",
            "|Sikkim                     |50                    |\n",
            "|Puducherry                 |83                    |\n",
            "|Daman and Diu              |105                   |\n",
            "|Dadra and Nagar Haveli     |140                   |\n",
            "|Chandigarh                 |259                   |\n",
            "|Meghalaya                  |277                   |\n",
            "|Nagaland                   |545                   |\n",
            "+---------------------------+----------------------+\n",
            "only showing top 11 rows\n",
            "\n"
          ]
        }
      ],
      "source": [
        "data.groupBy(\"State\").agg(expr(\"sum(Aadhaar_Generated)\")).orderBy(\"sum(Aadhaar_Generated)\",ascending=True).show(11,truncate=False)"
      ]
    },
    {
      "cell_type": "markdown",
      "metadata": {
        "id": "Uh-1pktO5FYv"
      },
      "source": [
        "### 5. For which age most adhar card has declined "
      ]
    },
    {
      "cell_type": "code",
      "execution_count": null,
      "metadata": {
        "id": "sByFmtlB8tQS"
      },
      "outputs": [],
      "source": [
        "data.createOrReplaceTempView(\"data\")"
      ]
    },
    {
      "cell_type": "code",
      "execution_count": null,
      "metadata": {
        "colab": {
          "base_uri": "https://localhost:8080/"
        },
        "id": "8-ezSFqW6tzp",
        "outputId": "85533459-c0ea-41a4-8f88-bc58f1d1dbe1"
      },
      "outputs": [
        {
          "name": "stdout",
          "output_type": "stream",
          "text": [
            "+---+-----------------------+\n",
            "|Age|sum(Enrolment_Rejected)|\n",
            "+---+-----------------------+\n",
            "|4  |5673                   |\n",
            "+---+-----------------------+\n",
            "only showing top 1 row\n",
            "\n"
          ]
        }
      ],
      "source": [
        "spark.sql(\"\"\"\n",
        "SELECT  Age\n",
        "     , sum( Enrolment_Rejected)\n",
        "  FROM data\n",
        " GROUP BY Age\n",
        " ORDER BY sum(Enrolment_Rejected) DESC \"\"\").show(1,truncate=False)"
      ]
    }
  ],
  "metadata": {
    "colab": {
      "collapsed_sections": [
        "HBy5HyNJvrR0",
        "gzET_wWV83Sx",
        "E4GFO_-VmE56",
        "am8E43bNoUW4",
        "2r1nN25Y2XFQ",
        "QvVeiHtV2ekE",
        "Uh-1pktO5FYv"
      ],
      "name": "Week 16 Pyspark (M. Nikhlesh - DS13)16 .ipynb",
      "provenance": []
    },
    "kernelspec": {
      "display_name": "Python 3",
      "name": "python3"
    },
    "language_info": {
      "name": "python"
    }
  },
  "nbformat": 4,
  "nbformat_minor": 0
}